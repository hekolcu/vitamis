{
  "nbformat": 4,
  "nbformat_minor": 0,
  "metadata": {
    "colab": {
      "provenance": [],
      "collapsed_sections": [
        "WsaQEKq47qAO",
        "COdfS91m7hfI"
      ]
    },
    "kernelspec": {
      "name": "python3",
      "display_name": "Python 3"
    },
    "language_info": {
      "name": "python"
    }
  },
  "cells": [
    {
      "cell_type": "markdown",
      "source": [
        "# food_vitamin_values.json"
      ],
      "metadata": {
        "id": "WsaQEKq47qAO"
      }
    },
    {
      "cell_type": "code",
      "execution_count": 1,
      "metadata": {
        "id": "NGTIlK-64m8V"
      },
      "outputs": [],
      "source": [
        "# prompt: load the json file named food_vitamin_values.json\n",
        "\n",
        "import json\n",
        "with open('food_vitamin_values.json', 'r') as f:\n",
        "  data = json.load(f)\n"
      ]
    },
    {
      "cell_type": "code",
      "source": [
        "# prompt: print the head\n",
        "\n",
        "import pandas as pd\n",
        "\n",
        "df = pd.json_normalize(data)\n",
        "print(df.head())\n"
      ],
      "metadata": {
        "colab": {
          "base_uri": "https://localhost:8080/"
        },
        "id": "M6DxGCus5BGb",
        "outputId": "9b5a5998-a25c-4e6e-b6a1-3073845cb975"
      },
      "execution_count": 2,
      "outputs": [
        {
          "output_type": "stream",
          "name": "stdout",
          "text": [
            "                   gida                     grup               bilesen birim  \\\n",
            "0               Ahududu  Meyve ve meyve ürünleri            C vitamini    mg   \n",
            "1               Ahududu  Meyve ve meyve ürünleri  B-6 vitamini, toplam    mg   \n",
            "2               Ahududu  Meyve ve meyve ürünleri            A vitamini    RE   \n",
            "3  Ahududu, dondurulmuş  Meyve ve meyve ürünleri            C vitamini    mg   \n",
            "4                Ananas  Meyve ve meyve ürünleri            C vitamini    mg   \n",
            "\n",
            "  ortalama minimum maksimin  \n",
            "0     20,6    12,4     30,7  \n",
            "1    0,032   0,012    0,064  \n",
            "2        9       7       10  \n",
            "3     14,2    14,2     14,2  \n",
            "4     59,3    36,0     83,5  \n"
          ]
        }
      ]
    },
    {
      "cell_type": "code",
      "source": [
        "# prompt: now go throught the bilesen column and remove the chars after and including the comma char. for example \"B-6 vitamini, toplam\" -> \"B-6 vitamini\"\n",
        "\n",
        "df['bilesen'] = df['bilesen'].apply(lambda x: x.split(',')[0])\n",
        "print(df.head())\n"
      ],
      "metadata": {
        "colab": {
          "base_uri": "https://localhost:8080/"
        },
        "id": "mI0ekStF5dwQ",
        "outputId": "8f854c7f-df27-4134-ffaa-ed67f8e0ec0d"
      },
      "execution_count": 3,
      "outputs": [
        {
          "output_type": "stream",
          "name": "stdout",
          "text": [
            "                   gida                     grup       bilesen birim ortalama  \\\n",
            "0               Ahududu  Meyve ve meyve ürünleri    C vitamini    mg     20,6   \n",
            "1               Ahududu  Meyve ve meyve ürünleri  B-6 vitamini    mg    0,032   \n",
            "2               Ahududu  Meyve ve meyve ürünleri    A vitamini    RE        9   \n",
            "3  Ahududu, dondurulmuş  Meyve ve meyve ürünleri    C vitamini    mg     14,2   \n",
            "4                Ananas  Meyve ve meyve ürünleri    C vitamini    mg     59,3   \n",
            "\n",
            "  minimum maksimin  \n",
            "0    12,4     30,7  \n",
            "1   0,012    0,064  \n",
            "2       7       10  \n",
            "3    14,2     14,2  \n",
            "4    36,0     83,5  \n"
          ]
        }
      ]
    },
    {
      "cell_type": "code",
      "source": [
        "# prompt: now remove any '-' chars\n",
        "\n",
        "df['bilesen'] = df['bilesen'].apply(lambda x: x.replace('-', ''))\n",
        "print(df.head())\n"
      ],
      "metadata": {
        "colab": {
          "base_uri": "https://localhost:8080/"
        },
        "id": "jtIHqENE53On",
        "outputId": "51aa152e-f79f-4d3d-a338-710faa31ec86"
      },
      "execution_count": 4,
      "outputs": [
        {
          "output_type": "stream",
          "name": "stdout",
          "text": [
            "                   gida                     grup      bilesen birim ortalama  \\\n",
            "0               Ahududu  Meyve ve meyve ürünleri   C vitamini    mg     20,6   \n",
            "1               Ahududu  Meyve ve meyve ürünleri  B6 vitamini    mg    0,032   \n",
            "2               Ahududu  Meyve ve meyve ürünleri   A vitamini    RE        9   \n",
            "3  Ahududu, dondurulmuş  Meyve ve meyve ürünleri   C vitamini    mg     14,2   \n",
            "4                Ananas  Meyve ve meyve ürünleri   C vitamini    mg     59,3   \n",
            "\n",
            "  minimum maksimin  \n",
            "0    12,4     30,7  \n",
            "1   0,012    0,064  \n",
            "2       7       10  \n",
            "3    14,2     14,2  \n",
            "4    36,0     83,5  \n"
          ]
        }
      ]
    },
    {
      "cell_type": "code",
      "source": [
        "df_dict = df.to_dict(orient='records')\n",
        "\n",
        "with open('food_vitamin_values_modified.json', 'w') as f:\n",
        "  json.dump(df_dict, f, indent=2)"
      ],
      "metadata": {
        "id": "6U1PGayd6qYU"
      },
      "execution_count": 7,
      "outputs": []
    },
    {
      "cell_type": "markdown",
      "source": [
        "# food_nutricional_values.json"
      ],
      "metadata": {
        "id": "COdfS91m7hfI"
      }
    },
    {
      "cell_type": "code",
      "source": [
        "import json\n",
        "import pandas as pd\n",
        "\n",
        "with open('food_nutritional_values.json', 'r') as f:\n",
        "  data = json.load(f)\n",
        "\n",
        "df = pd.json_normalize(data)\n",
        "print(df.head())"
      ],
      "metadata": {
        "colab": {
          "base_uri": "https://localhost:8080/"
        },
        "id": "k37xe7BW7oIp",
        "outputId": "8b99c6b3-ecbf-4ba7-9b44-71bf79728acd"
      },
      "execution_count": 8,
      "outputs": [
        {
          "output_type": "stream",
          "name": "stdout",
          "text": [
            "      gida                     grup  bilesen birim ortalama minimum maksimin\n",
            "0  Ahududu  Meyve ve meyve ürünleri   Enerji  kcal       56      51       60\n",
            "1  Ahududu  Meyve ve meyve ürünleri   Enerji    kJ      233     212      250\n",
            "2  Ahududu  Meyve ve meyve ürünleri       Su     g    85,49   84,38    86,92\n",
            "3  Ahududu  Meyve ve meyve ürünleri      Kül     g     0,51    0,40     0,64\n",
            "4  Ahududu  Meyve ve meyve ürünleri  Protein     g     1,30    0,41     2,15\n"
          ]
        }
      ]
    },
    {
      "cell_type": "code",
      "source": [
        "# prompt: now go throught the bilesen column and remove the chars after and including the comma char. for example \"B-6 vitamini, toplam\" -> \"B-6 vitamini\"\n",
        "\n",
        "df['bilesen'] = df['bilesen'].apply(lambda x: str(x).split(',')[0])\n",
        "print(df.head())\n"
      ],
      "metadata": {
        "colab": {
          "base_uri": "https://localhost:8080/"
        },
        "id": "3MKPfFmx_2_a",
        "outputId": "c32d4d5e-cc03-48c1-c669-7a750a1cffb4"
      },
      "execution_count": 17,
      "outputs": [
        {
          "output_type": "stream",
          "name": "stdout",
          "text": [
            "      gida                     grup  bilesen birim ortalama minimum maksimin\n",
            "0  Ahududu  Meyve ve meyve ürünleri   Enerji  kcal       56      51       60\n",
            "1  Ahududu  Meyve ve meyve ürünleri   Enerji    kJ      233     212      250\n",
            "2  Ahududu  Meyve ve meyve ürünleri       Su     g    85,49   84,38    86,92\n",
            "3  Ahududu  Meyve ve meyve ürünleri      Kül     g     0,51    0,40     0,64\n",
            "4  Ahududu  Meyve ve meyve ürünleri  Protein     g     1,30    0,41     2,15\n"
          ]
        }
      ]
    },
    {
      "cell_type": "code",
      "source": [
        "df_dict = df.to_dict(orient='records')\n",
        "\n",
        "with open('food_nutritional_values_modified.json', 'w') as f:\n",
        "  json.dump(df_dict, f, indent=2)"
      ],
      "metadata": {
        "id": "_42Anc4kAOFz"
      },
      "execution_count": 18,
      "outputs": []
    }
  ]
}